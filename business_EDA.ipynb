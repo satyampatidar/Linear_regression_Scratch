{
  "nbformat": 4,
  "nbformat_minor": 0,
  "metadata": {
    "colab": {
      "name": "business_EDA.ipynb",
      "provenance": [],
      "collapsed_sections": [],
      "mount_file_id": "12WMQnjtehJC_nAfPfocPtOa3fuHb-o-v",
      "authorship_tag": "ABX9TyNf8Ndgkvlv6uGe0I2T5rRb",
      "include_colab_link": true
    },
    "kernelspec": {
      "name": "python3",
      "display_name": "Python 3"
    }
  },
  "cells": [
    {
      "cell_type": "markdown",
      "metadata": {
        "id": "view-in-github",
        "colab_type": "text"
      },
      "source": [
        "<a href=\"https://colab.research.google.com/github/satyampatidar/Yelp-Big-Data-Analysis/blob/main/business_EDA.ipynb\" target=\"_parent\"><img src=\"https://colab.research.google.com/assets/colab-badge.svg\" alt=\"Open In Colab\"/></a>"
      ]
    },
    {
      "cell_type": "code",
      "metadata": {
        "id": "27MMr3r1924v"
      },
      "source": [
        "\r\n",
        "# importing packages \r\n",
        "import pandas as pd\r\n",
        "import matplotlib.pyplot as plt\r\n",
        "import seaborn as sns"
      ],
      "execution_count": 1,
      "outputs": []
    },
    {
      "cell_type": "markdown",
      "metadata": {
        "id": "XijWUGa_LQv4"
      },
      "source": [
        "# New Section"
      ]
    },
    {
      "cell_type": "code",
      "metadata": {
        "id": "zZKiNHuk_RuN"
      },
      "source": [
        "# load json file using pandas \r\n",
        "df_business = pd.read_json('/content/drive/MyDrive/yelp_dataset2/yelp_academic_dataset_business.json', lines = True) "
      ],
      "execution_count": 2,
      "outputs": []
    },
    {
      "cell_type": "code",
      "metadata": {
        "id": "MqN3zMupQ7I4",
        "colab": {
          "base_uri": "https://localhost:8080/"
        },
        "outputId": "ba7e82b5-9311-4ec1-b632-3872ae1ccf77"
      },
      "source": [
        "# view data \r\n",
        "print(df_business)"
      ],
      "execution_count": 3,
      "outputs": [
        {
          "output_type": "stream",
          "text": [
            "                   business_id  ...                                              hours\n",
            "0       f9NumwFMBDn751xgFiRbNA  ...  {'Monday': '10:0-18:0', 'Tuesday': '11:0-20:0'...\n",
            "1       Yzvjg0SayhoZgCljUJRF9Q  ...                                               None\n",
            "2       XNoUzKckATkOD1hP6vghZg  ...                                               None\n",
            "3       6OAZjbxqM5ol29BuHsil3w  ...  {'Monday': '7:0-16:0', 'Tuesday': '7:0-16:0', ...\n",
            "4       51M2Kk903DFYI6gnB5I6SQ  ...  {'Monday': '0:0-0:0', 'Tuesday': '9:0-16:0', '...\n",
            "...                        ...  ...                                                ...\n",
            "209388  9Q0fPWAjUweoFDk0kafuzQ  ...  {'Monday': '11:0-22:0', 'Tuesday': '11:0-22:0'...\n",
            "209389  PotiAhtDMYMNsJCzV0oLAw  ...                                               None\n",
            "209390  SYa2j1boLF8DcGVOYfHPcA  ...  {'Monday': '11:0-22:0', 'Tuesday': '11:0-22:0'...\n",
            "209391  RSSIsgO00OuWQTRoITacpA  ...  {'Monday': '0:0-0:0', 'Tuesday': '7:0-19:0', '...\n",
            "209392  tOcYmewXFhQeZh3V42ymwg  ...  {'Monday': '9:0-18:0', 'Tuesday': '9:0-18:0', ...\n",
            "\n",
            "[209393 rows x 14 columns]\n"
          ],
          "name": "stdout"
        }
      ]
    },
    {
      "cell_type": "code",
      "metadata": {
        "id": "JJCrZDrl_gFl"
      },
      "source": [
        "# Convert to CSV\r\n",
        "df_business.to_csv(\"business.csv\",index = False)"
      ],
      "execution_count": 4,
      "outputs": []
    },
    {
      "cell_type": "code",
      "metadata": {
        "id": "Km8vjwyoEVHZ",
        "colab": {
          "base_uri": "https://localhost:8080/",
          "height": 665
        },
        "outputId": "8e4143cb-f1a6-4975-fb9e-ee0df191b2d7"
      },
      "source": [
        "# LOADING THE DATASET AND SEEING THE DETAILS\r\n",
        "data = pd.read_csv('/content/business.csv')\r\n",
        "# SHAPE OF THE DATASET\r\n",
        "print(\"Shape of the dataset:\")\r\n",
        "print(data.shape)\r\n",
        "print(data.head())\r\n",
        "# DATASET SUMMARY\r\n",
        "data.describe(include='all')"
      ],
      "execution_count": 5,
      "outputs": [
        {
          "output_type": "stream",
          "text": [
            "Shape of the dataset:\n",
            "(209393, 14)\n",
            "              business_id  ...                                              hours\n",
            "0  f9NumwFMBDn751xgFiRbNA  ...  {'Monday': '10:0-18:0', 'Tuesday': '11:0-20:0'...\n",
            "1  Yzvjg0SayhoZgCljUJRF9Q  ...                                                NaN\n",
            "2  XNoUzKckATkOD1hP6vghZg  ...                                                NaN\n",
            "3  6OAZjbxqM5ol29BuHsil3w  ...  {'Monday': '7:0-16:0', 'Tuesday': '7:0-16:0', ...\n",
            "4  51M2Kk903DFYI6gnB5I6SQ  ...  {'Monday': '0:0-0:0', 'Tuesday': '9:0-16:0', '...\n",
            "\n",
            "[5 rows x 14 columns]\n"
          ],
          "name": "stdout"
        },
        {
          "output_type": "execute_result",
          "data": {
            "text/html": [
              "<div>\n",
              "<style scoped>\n",
              "    .dataframe tbody tr th:only-of-type {\n",
              "        vertical-align: middle;\n",
              "    }\n",
              "\n",
              "    .dataframe tbody tr th {\n",
              "        vertical-align: top;\n",
              "    }\n",
              "\n",
              "    .dataframe thead th {\n",
              "        text-align: right;\n",
              "    }\n",
              "</style>\n",
              "<table border=\"1\" class=\"dataframe\">\n",
              "  <thead>\n",
              "    <tr style=\"text-align: right;\">\n",
              "      <th></th>\n",
              "      <th>business_id</th>\n",
              "      <th>name</th>\n",
              "      <th>address</th>\n",
              "      <th>city</th>\n",
              "      <th>state</th>\n",
              "      <th>postal_code</th>\n",
              "      <th>latitude</th>\n",
              "      <th>longitude</th>\n",
              "      <th>stars</th>\n",
              "      <th>review_count</th>\n",
              "      <th>is_open</th>\n",
              "      <th>attributes</th>\n",
              "      <th>categories</th>\n",
              "      <th>hours</th>\n",
              "    </tr>\n",
              "  </thead>\n",
              "  <tbody>\n",
              "    <tr>\n",
              "      <th>count</th>\n",
              "      <td>209393</td>\n",
              "      <td>209392</td>\n",
              "      <td>200714</td>\n",
              "      <td>209391</td>\n",
              "      <td>209393</td>\n",
              "      <td>208884</td>\n",
              "      <td>209393.000000</td>\n",
              "      <td>209393.000000</td>\n",
              "      <td>209393.000000</td>\n",
              "      <td>209393.000000</td>\n",
              "      <td>209393.000000</td>\n",
              "      <td>180348</td>\n",
              "      <td>208869</td>\n",
              "      <td>164550</td>\n",
              "    </tr>\n",
              "    <tr>\n",
              "      <th>unique</th>\n",
              "      <td>209393</td>\n",
              "      <td>157228</td>\n",
              "      <td>164422</td>\n",
              "      <td>1250</td>\n",
              "      <td>37</td>\n",
              "      <td>18604</td>\n",
              "      <td>NaN</td>\n",
              "      <td>NaN</td>\n",
              "      <td>NaN</td>\n",
              "      <td>NaN</td>\n",
              "      <td>NaN</td>\n",
              "      <td>104723</td>\n",
              "      <td>102494</td>\n",
              "      <td>57640</td>\n",
              "    </tr>\n",
              "    <tr>\n",
              "      <th>top</th>\n",
              "      <td>6kbj9mAWX4gCig-Y4WCdHA</td>\n",
              "      <td>Starbucks</td>\n",
              "      <td>5757 Wayne Newton Blvd</td>\n",
              "      <td>Las Vegas</td>\n",
              "      <td>AZ</td>\n",
              "      <td>89109</td>\n",
              "      <td>NaN</td>\n",
              "      <td>NaN</td>\n",
              "      <td>NaN</td>\n",
              "      <td>NaN</td>\n",
              "      <td>NaN</td>\n",
              "      <td>{'BusinessAcceptsCreditCards': 'True'}</td>\n",
              "      <td>Nail Salons, Beauty &amp; Spas</td>\n",
              "      <td>{'Monday': '0:0-0:0', 'Tuesday': '0:0-0:0', 'W...</td>\n",
              "    </tr>\n",
              "    <tr>\n",
              "      <th>freq</th>\n",
              "      <td>1</td>\n",
              "      <td>1184</td>\n",
              "      <td>107</td>\n",
              "      <td>31631</td>\n",
              "      <td>60803</td>\n",
              "      <td>3388</td>\n",
              "      <td>NaN</td>\n",
              "      <td>NaN</td>\n",
              "      <td>NaN</td>\n",
              "      <td>NaN</td>\n",
              "      <td>NaN</td>\n",
              "      <td>12021</td>\n",
              "      <td>1055</td>\n",
              "      <td>8992</td>\n",
              "    </tr>\n",
              "    <tr>\n",
              "      <th>mean</th>\n",
              "      <td>NaN</td>\n",
              "      <td>NaN</td>\n",
              "      <td>NaN</td>\n",
              "      <td>NaN</td>\n",
              "      <td>NaN</td>\n",
              "      <td>NaN</td>\n",
              "      <td>38.579934</td>\n",
              "      <td>-97.390217</td>\n",
              "      <td>3.538055</td>\n",
              "      <td>36.937505</td>\n",
              "      <td>0.806632</td>\n",
              "      <td>NaN</td>\n",
              "      <td>NaN</td>\n",
              "      <td>NaN</td>\n",
              "    </tr>\n",
              "    <tr>\n",
              "      <th>std</th>\n",
              "      <td>NaN</td>\n",
              "      <td>NaN</td>\n",
              "      <td>NaN</td>\n",
              "      <td>NaN</td>\n",
              "      <td>NaN</td>\n",
              "      <td>NaN</td>\n",
              "      <td>4.940448</td>\n",
              "      <td>16.718535</td>\n",
              "      <td>1.023543</td>\n",
              "      <td>123.343597</td>\n",
              "      <td>0.394940</td>\n",
              "      <td>NaN</td>\n",
              "      <td>NaN</td>\n",
              "      <td>NaN</td>\n",
              "    </tr>\n",
              "    <tr>\n",
              "      <th>min</th>\n",
              "      <td>NaN</td>\n",
              "      <td>NaN</td>\n",
              "      <td>NaN</td>\n",
              "      <td>NaN</td>\n",
              "      <td>NaN</td>\n",
              "      <td>NaN</td>\n",
              "      <td>21.497258</td>\n",
              "      <td>-158.025525</td>\n",
              "      <td>1.000000</td>\n",
              "      <td>3.000000</td>\n",
              "      <td>0.000000</td>\n",
              "      <td>NaN</td>\n",
              "      <td>NaN</td>\n",
              "      <td>NaN</td>\n",
              "    </tr>\n",
              "    <tr>\n",
              "      <th>25%</th>\n",
              "      <td>NaN</td>\n",
              "      <td>NaN</td>\n",
              "      <td>NaN</td>\n",
              "      <td>NaN</td>\n",
              "      <td>NaN</td>\n",
              "      <td>NaN</td>\n",
              "      <td>33.638658</td>\n",
              "      <td>-112.269476</td>\n",
              "      <td>3.000000</td>\n",
              "      <td>4.000000</td>\n",
              "      <td>1.000000</td>\n",
              "      <td>NaN</td>\n",
              "      <td>NaN</td>\n",
              "      <td>NaN</td>\n",
              "    </tr>\n",
              "    <tr>\n",
              "      <th>50%</th>\n",
              "      <td>NaN</td>\n",
              "      <td>NaN</td>\n",
              "      <td>NaN</td>\n",
              "      <td>NaN</td>\n",
              "      <td>NaN</td>\n",
              "      <td>NaN</td>\n",
              "      <td>36.147408</td>\n",
              "      <td>-111.743531</td>\n",
              "      <td>3.500000</td>\n",
              "      <td>9.000000</td>\n",
              "      <td>1.000000</td>\n",
              "      <td>NaN</td>\n",
              "      <td>NaN</td>\n",
              "      <td>NaN</td>\n",
              "    </tr>\n",
              "    <tr>\n",
              "      <th>75%</th>\n",
              "      <td>NaN</td>\n",
              "      <td>NaN</td>\n",
              "      <td>NaN</td>\n",
              "      <td>NaN</td>\n",
              "      <td>NaN</td>\n",
              "      <td>NaN</td>\n",
              "      <td>43.611693</td>\n",
              "      <td>-79.972679</td>\n",
              "      <td>4.500000</td>\n",
              "      <td>27.000000</td>\n",
              "      <td>1.000000</td>\n",
              "      <td>NaN</td>\n",
              "      <td>NaN</td>\n",
              "      <td>NaN</td>\n",
              "    </tr>\n",
              "    <tr>\n",
              "      <th>max</th>\n",
              "      <td>NaN</td>\n",
              "      <td>NaN</td>\n",
              "      <td>NaN</td>\n",
              "      <td>NaN</td>\n",
              "      <td>NaN</td>\n",
              "      <td>NaN</td>\n",
              "      <td>51.299943</td>\n",
              "      <td>-72.806550</td>\n",
              "      <td>5.000000</td>\n",
              "      <td>10129.000000</td>\n",
              "      <td>1.000000</td>\n",
              "      <td>NaN</td>\n",
              "      <td>NaN</td>\n",
              "      <td>NaN</td>\n",
              "    </tr>\n",
              "  </tbody>\n",
              "</table>\n",
              "</div>"
            ],
            "text/plain": [
              "                   business_id  ...                                              hours\n",
              "count                   209393  ...                                             164550\n",
              "unique                  209393  ...                                              57640\n",
              "top     6kbj9mAWX4gCig-Y4WCdHA  ...  {'Monday': '0:0-0:0', 'Tuesday': '0:0-0:0', 'W...\n",
              "freq                         1  ...                                               8992\n",
              "mean                       NaN  ...                                                NaN\n",
              "std                        NaN  ...                                                NaN\n",
              "min                        NaN  ...                                                NaN\n",
              "25%                        NaN  ...                                                NaN\n",
              "50%                        NaN  ...                                                NaN\n",
              "75%                        NaN  ...                                                NaN\n",
              "max                        NaN  ...                                                NaN\n",
              "\n",
              "[11 rows x 14 columns]"
            ]
          },
          "metadata": {
            "tags": []
          },
          "execution_count": 5
        }
      ]
    },
    {
      "cell_type": "code",
      "metadata": {
        "id": "idgVtQSJTGQg",
        "colab": {
          "base_uri": "https://localhost:8080/",
          "height": 351
        },
        "outputId": "ea5d422e-6c6a-49fe-e0bb-48ccf8936b9a"
      },
      "source": [
        "plt.figure(figsize=(12,4))\r\n",
        "ax = sns.countplot(data['stars'])\r\n",
        "plt.title('Distribution of rating');"
      ],
      "execution_count": 6,
      "outputs": [
        {
          "output_type": "stream",
          "text": [
            "/usr/local/lib/python3.6/dist-packages/seaborn/_decorators.py:43: FutureWarning: Pass the following variable as a keyword arg: x. From version 0.12, the only valid positional argument will be `data`, and passing other arguments without an explicit keyword will result in an error or misinterpretation.\n",
            "  FutureWarning\n"
          ],
          "name": "stderr"
        },
        {
          "output_type": "display_data",
          "data": {
            "image/png": "[encoded data removed]",
            "text/plain": [
              "<Figure size 864x288 with 1 Axes>"
            ]
          },
          "metadata": {
            "tags": [],
            "needs_background": "light"
          }
        }
      ]
    },
    {
      "cell_type": "code",
      "metadata": {
        "id": "4AB9spYITe_W",
        "colab": {
          "base_uri": "https://localhost:8080/"
        },
        "outputId": "8fec590c-4b50-4d05-a247-02d447051662"
      },
      "source": [
        "df_business.stars.describe()"
      ],
      "execution_count": 7,
      "outputs": [
        {
          "output_type": "execute_result",
          "data": {
            "text/plain": [
              "count    209393.000000\n",
              "mean          3.538055\n",
              "std           1.023543\n",
              "min           1.000000\n",
              "25%           3.000000\n",
              "50%           3.500000\n",
              "75%           4.500000\n",
              "max           5.000000\n",
              "Name: stars, dtype: float64"
            ]
          },
          "metadata": {
            "tags": []
          },
          "execution_count": 7
        }
      ]
    },
    {
      "cell_type": "code",
      "metadata": {
        "colab": {
          "base_uri": "https://localhost:8080/",
          "height": 265
        },
        "id": "uQYbmqLQyt0K",
        "outputId": "3361358a-6751-493f-9dae-140b78aa31f9"
      },
      "source": [
        "plt.hist(df_business.stars, bins=[1.0, 1.5, 2.0, 2.5, 3.0, 3.5, 4.0, 4.5, 5.0, 5.5])\r\n",
        "plt.show()"
      ],
      "execution_count": 9,
      "outputs": [
        {
          "output_type": "display_data",
          "data": {
            "image/png": "[encoded data removed]",
            "text/plain": [
              "<Figure size 432x288 with 1 Axes>"
            ]
          },
          "metadata": {
            "tags": [],
            "needs_background": "light"
          }
        }
      ]
    },
    {
      "cell_type": "code",
      "metadata": {
        "colab": {
          "base_uri": "https://localhost:8080/"
        },
        "id": "IONIKsDnyn41",
        "outputId": "658d72e7-ffb1-446a-bcb1-a0bd2393755a"
      },
      "source": [
        "df_business.review_count.describe()"
      ],
      "execution_count": 10,
      "outputs": [
        {
          "output_type": "execute_result",
          "data": {
            "text/plain": [
              "count    209393.000000\n",
              "mean         36.937505\n",
              "std         123.343597\n",
              "min           3.000000\n",
              "25%           4.000000\n",
              "50%           9.000000\n",
              "75%          27.000000\n",
              "max       10129.000000\n",
              "Name: review_count, dtype: float64"
            ]
          },
          "metadata": {
            "tags": []
          },
          "execution_count": 10
        }
      ]
    },
    {
      "cell_type": "code",
      "metadata": {
        "colab": {
          "base_uri": "https://localhost:8080/",
          "height": 1000
        },
        "id": "YxErvg8zzF08",
        "outputId": "3cb61d6e-97f4-4da2-d6fb-a4d7e72005b5"
      },
      "source": [
        "plt.figure(figsize=(20,15))\r\n",
        "\r\n",
        "num_reviews = df_business.review_count\r\n",
        "\r\n",
        "plt.subplot(221)\r\n",
        "sns.distplot(list(filter(lambda x: x < 100, num_reviews)), bins=20)\r\n",
        "plt.title(\"Number of reviews between 0 and 100\", fontsize=20)\r\n",
        "plt.subplot(222)\r\n",
        "sns.distplot(list(filter(lambda x: x > 100 and x < 1000, num_reviews)))\r\n",
        "plt.title(\"Number of reviews between 100 and 1000\", fontsize=20)\r\n",
        "plt.subplot(223)\r\n",
        "sns.distplot(list(filter(lambda x: x > 1000, num_reviews)))\r\n",
        "plt.title(\"Number of reviews over 1000\", fontsize=20)\r\n",
        "plt.subplot(224)\r\n",
        "sns.distplot(num_reviews, bins = 50)\r\n",
        "plt.title(\"All review counts\", fontsize=20)\r\n",
        "plt.show()"
      ],
      "execution_count": 12,
      "outputs": [
        {
          "output_type": "stream",
          "text": [
            "/usr/local/lib/python3.6/dist-packages/seaborn/distributions.py:2557: FutureWarning: `distplot` is a deprecated function and will be removed in a future version. Please adapt your code to use either `displot` (a figure-level function with similar flexibility) or `histplot` (an axes-level function for histograms).\n",
            "  warnings.warn(msg, FutureWarning)\n",
            "/usr/local/lib/python3.6/dist-packages/seaborn/distributions.py:2557: FutureWarning: `distplot` is a deprecated function and will be removed in a future version. Please adapt your code to use either `displot` (a figure-level function with similar flexibility) or `histplot` (an axes-level function for histograms).\n",
            "  warnings.warn(msg, FutureWarning)\n",
            "/usr/local/lib/python3.6/dist-packages/seaborn/distributions.py:2557: FutureWarning: `distplot` is a deprecated function and will be removed in a future version. Please adapt your code to use either `displot` (a figure-level function with similar flexibility) or `histplot` (an axes-level function for histograms).\n",
            "  warnings.warn(msg, FutureWarning)\n",
            "/usr/local/lib/python3.6/dist-packages/seaborn/distributions.py:2557: FutureWarning: `distplot` is a deprecated function and will be removed in a future version. Please adapt your code to use either `displot` (a figure-level function with similar flexibility) or `histplot` (an axes-level function for histograms).\n",
            "  warnings.warn(msg, FutureWarning)\n"
          ],
          "name": "stderr"
        },
        {
          "output_type": "display_data",
          "data": {
            "image/png": "[encoded data removed]",
            "text/plain": [
              "<Figure size 1440x1080 with 4 Axes>"
            ]
          },
          "metadata": {
            "tags": [],
            "needs_background": "light"
          }
        }
      ]
    },
    {
      "cell_type": "code",
      "metadata": {
        "id": "amhdkmF8zovF"
      },
      "source": [
        ""
      ],
      "execution_count": null,
      "outputs": []
    }
  ]
}